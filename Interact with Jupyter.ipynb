{
 "cells": [
  {
   "cell_type": "markdown",
   "id": "8a1897bf",
   "metadata": {},
   "source": [
    "An interesting way of interacting with Jupyter"
   ]
  },
  {
   "cell_type": "code",
   "execution_count": null,
   "id": "79a6f61d",
   "metadata": {},
   "outputs": [],
   "source": [
    "import ipywidgets as widgets\n",
    "from IPython.display import display\n",
    "text = widgets.Text()\n",
    "display(text)\n",
    "\n",
    "def print_value(sender):\n",
    "    print(sender.value)\n",
    "    \n",
    "text.on_submit(print_value)\n",
    "\n",
    "btn = widgets.Button(description = \"OK\", tooltip = 'this is a button')\n",
    "def btn_click(sender):\n",
    "    print('Button %s clicked!' % sender.description)\n",
    "btn.on_click(btn_click)\n",
    "display(btn)"
   ]
  }
 ],
 "metadata": {
  "kernelspec": {
   "display_name": "Python 3 (ipykernel)",
   "language": "python",
   "name": "python3"
  },
  "language_info": {
   "codemirror_mode": {
    "name": "ipython",
    "version": 3
   },
   "file_extension": ".py",
   "mimetype": "text/x-python",
   "name": "python",
   "nbconvert_exporter": "python",
   "pygments_lexer": "ipython3",
   "version": "3.9.7"
  }
 },
 "nbformat": 4,
 "nbformat_minor": 5
}
