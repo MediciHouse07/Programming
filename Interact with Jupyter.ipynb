{
 "cells": [
  {
   "cell_type": "markdown",
   "id": "ced64e90",
   "metadata": {},
   "source": [
    "An interesting way of interacting with Jupyter"
   ]
  },
  {
   "cell_type": "code",
   "execution_count": 1,
   "id": "0e977b84",
   "metadata": {},
   "outputs": [
    {
     "data": {
      "application/vnd.jupyter.widget-view+json": {
       "model_id": "fe8db2b2946c4317aa1f47e6ba0023ae",
       "version_major": 2,
       "version_minor": 0
      },
      "text/plain": [
       "Text(value='')"
      ]
     },
     "metadata": {},
     "output_type": "display_data"
    },
    {
     "data": {
      "application/vnd.jupyter.widget-view+json": {
       "model_id": "34d11c16eb204249935b284951f37e82",
       "version_major": 2,
       "version_minor": 0
      },
      "text/plain": [
       "Button(description='OK', style=ButtonStyle(), tooltip='this is a button')"
      ]
     },
     "metadata": {},
     "output_type": "display_data"
    }
   ],
   "source": [
    "import ipywidgets as widgets\n",
    "from IPython.display import display\n",
    "text = widgets.Text()\n",
    "display(text)\n",
    "\n",
    "def print_value(sender):\n",
    "    print(sender.value)\n",
    "    \n",
    "text.on_submit(print_value)\n",
    "\n",
    "btn = widgets.Button(description = \"OK\", tooltip = 'this is a button')\n",
    "def btn_click(sender):\n",
    "    print('Button %s clicked!' % sender.description)\n",
    "btn.on_click(btn_click)\n",
    "display(btn)"
   ]
  }
 ],
 "metadata": {
  "kernelspec": {
   "display_name": "Python 3 (ipykernel)",
   "language": "python",
   "name": "python3"
  },
  "language_info": {
   "codemirror_mode": {
    "name": "ipython",
    "version": 3
   },
   "file_extension": ".py",
   "mimetype": "text/x-python",
   "name": "python",
   "nbconvert_exporter": "python",
   "pygments_lexer": "ipython3",
   "version": "3.9.7"
  }
 },
 "nbformat": 4,
 "nbformat_minor": 5
}
